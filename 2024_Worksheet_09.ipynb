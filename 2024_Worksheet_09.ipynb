{
 "cells": [
  {
   "cell_type": "markdown",
   "id": "36d2aada-dd0d-4386-81a9-d1c8a580e09c",
   "metadata": {},
   "source": [
    "## Statistics 2780A - Statistical Inference ##\n",
    "## Fall 2024 #\n",
    "## Tutorial 9 #\n",
    "November 6, 2024"
   ]
  },
  {
   "cell_type": "markdown",
   "id": "e2f8f314-fff9-4d09-9033-988d18aec42e",
   "metadata": {},
   "source": [
    "1. Suppose we have the sequence of random variables $X_1,\\ldots, X_{84}\\sim\\text{Bin}(1,p_1)$, where $X_i=1$ with probability $p_1$ if the  height of the tree is larger or equal to 40ft. The estimated $\\hat{p}_1$ is $0.43$.   \n",
    "For another species of pine, the Jack pine, we consider another sample $Y_1,\\ldots, Y_{75}\\sim\\text{Bin}(1,p_2)$, where $p_2$ is the probability that the Jack pine $Y_i$ is larger or equal to 40ft. For this sample, we have obtained an estimate $\\hat{p}_2 = 0.45$.   \n",
    "We want to test the alternative hypothesis, at 5% level, that the proportion of Loblolly pine trees over 40ft is significantly larger than the proportion of Jack pine trees over 40ft. Compute the p-value of the test.\n"
   ]
  },
  {
   "cell_type": "code",
   "execution_count": null,
   "id": "44b1332d-2265-4c11-8e27-ad5239500064",
   "metadata": {},
   "outputs": [],
   "source": [
    "# answer"
   ]
  },
  {
   "cell_type": "markdown",
   "id": "f8ee1e08-0ca3-4b8b-80ed-a8ab4bee5963",
   "metadata": {},
   "source": [
    "2. The dataset $\\texttt{sleep}$ in $\\texttt{datasets}$ contains data on the effect of two soporific drugs (increase in hours of sleep compared to control) on 10 patients.  \n",
    "   1. Are the samples paired or independent?\n",
    "   2. Test at 5% level that there is a significant difference between the hours of sleep for drug 1 and drug 2. Assume normality of data.\n",
    "   3. Compute the p-value of the test."
   ]
  },
  {
   "cell_type": "code",
   "execution_count": null,
   "id": "4be38474-acc9-42e3-a914-89227449d8d1",
   "metadata": {},
   "outputs": [],
   "source": [
    "# answer"
   ]
  },
  {
   "cell_type": "markdown",
   "id": "0afdd51f-f7a2-48ab-bbfb-17a588bbff2b",
   "metadata": {},
   "source": [
    "3. The dataset $\\texttt{InsectSprays}$ in $\\texttt{datasets}$ contains the number of insects in agricultural experimental units treated with 5 insecticides, labelled A, B, C, D, E and F.\n",
    "   1. If the data satisfies the assumption of ANOVA, test at 5% level whether there is a significance difference between the mean number of insects in each group. You can use the function ` aov`.\n",
    "   2. From the summary of the test, determine the value of the SSB (sum of squares between the groups) and SSW (sum of squares within the groups), as well as the number of degrees of freedoms.\n",
    "   3. What is the value of the test? Compare the value of the test with the critical value. What is the decision about the null hypothesis?\n",
    "   4. If the null hypothesis is rejected, determine which pairs of means are statistically different using the R function `TukeyHSD(model)`"
   ]
  },
  {
   "cell_type": "code",
   "execution_count": null,
   "id": "bc52b26e-0601-47d2-a24b-50e5413372f1",
   "metadata": {},
   "outputs": [],
   "source": [
    "# answer"
   ]
  }
 ],
 "metadata": {
  "kernelspec": {
   "display_name": "R",
   "language": "R",
   "name": "ir"
  },
  "language_info": {
   "codemirror_mode": "r",
   "file_extension": ".r",
   "mimetype": "text/x-r-source",
   "name": "R",
   "pygments_lexer": "r",
   "version": "4.3.3"
  }
 },
 "nbformat": 4,
 "nbformat_minor": 5
}
